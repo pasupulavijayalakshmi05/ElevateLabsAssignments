{
  "nbformat": 4,
  "nbformat_minor": 0,
  "metadata": {
    "colab": {
      "provenance": []
    },
    "kernelspec": {
      "name": "python3",
      "display_name": "Python 3"
    },
    "language_info": {
      "name": "python"
    }
  },
  "cells": [
    {
      "cell_type": "code",
      "execution_count": 2,
      "metadata": {
        "id": "QQMrU30rvnld"
      },
      "outputs": [],
      "source": [
        "import pandas as pd\n",
        "\n",
        "df = pd.read_csv('marketing_campaign.csv', sep='\\t')\n",
        "df.columns = df.columns.str.lower().str.strip().str.replace(' ', '_')  # 1. Standardize column names\n",
        "df['dt_customer'] = pd.to_datetime(df['dt_customer'], dayfirst=True)   # 2. Convert to datetime\n",
        "df['income'] = df['income'].fillna(df['income'].median())              # 3. Fill null income\n",
        "df = df.drop_duplicates()                                              # 4. Remove duplicates\n",
        "df['education'] = df['education'].str.lower().str.strip()              # 5. Standardize text\n",
        "df['marital_status'] = df['marital_status'].str.lower().str.strip()\n",
        "df['year_birth'] = df['year_birth'].astype('int')                      # 6. Fix types\n",
        "df['age'] = pd.Timestamp.today().year - df['year_birth']               # 7. New feature: age\n",
        "df['days_as_customer'] = (pd.Timestamp.today() - df['dt_customer']).dt.days  # 8. Tenure feature\n",
        "df.to_csv('cleaned_customer_personality.csv', index=False)             # 9. Save output\n"
      ]
    },
    {
      "cell_type": "code",
      "source": [],
      "metadata": {
        "id": "8LOdc7Aav64H"
      },
      "execution_count": null,
      "outputs": []
    }
  ]
}